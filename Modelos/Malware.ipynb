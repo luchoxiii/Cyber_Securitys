{
 "cells": [
  {
   "cell_type": "markdown",
   "id": "ee379178",
   "metadata": {},
   "source": [
    "# Prediccion de actividad de malware"
   ]
  },
  {
   "cell_type": "markdown",
   "id": "68323795",
   "metadata": {},
   "source": [
    "Lucho Ago|2023 <br>\n",
    "Le bonheur by Berry"
   ]
  },
  {
   "cell_type": "markdown",
   "id": "02269683",
   "metadata": {},
   "source": [
    "- **Objetivo:** Predecir si una actividad corresponde a malware file-less (*malware*) o a un software legítimo (*goodware*).\n",
    "\n",
    "- **Número de muestras:** 142  \n",
    "  - **Malware:** 92  \n",
    "  - **No Malware (Goodware):** 50\n",
    "\n",
    "- **Número de características:** 1000\n",
    "\n",
    "- **Tipo de problema:** Clasificación binaria supervisada"
   ]
  },
  {
   "cell_type": "markdown",
   "id": "20afbc46",
   "metadata": {},
   "source": [
    "## Import Packages"
   ]
  },
  {
   "cell_type": "code",
   "execution_count": null,
   "id": "a668184e",
   "metadata": {},
   "outputs": [],
   "source": [
    "import pandas as pd\n",
    "import numpy as np\n",
    "import seaborn as sns\n",
    "import matplotlib.pyplot as plt\n",
    "\n",
    "from sklearn.ensemble import RandomForestClassifier\n",
    "from sklearn.linear_model import LogisticRegression\n",
    "from sklearn.metrics import (accuracy_score, confusion_matrix, f1_score,\n",
    "                             precision_score, recall_score)\n",
    "from sklearn.model_selection import train_test_split\n",
    "from sklearn.preprocessing import LabelEncoder, StandardScaler\n",
    "from sklearn.naive_bayes import GaussianNB\n",
    "from sklearn.tree import DecisionTreeRegressor"
   ]
  },
  {
   "cell_type": "markdown",
   "id": "87641c8c",
   "metadata": {},
   "source": [
    "## Import Dataset"
   ]
  },
  {
   "cell_type": "code",
   "execution_count": null,
   "id": "1a122753",
   "metadata": {},
   "outputs": [],
   "source": [
    "df = pd.read_csv(\"log_file_features.csv\")\n",
    "df_raw = df.copy()\n",
    "df.head()"
   ]
  }
 ],
 "metadata": {
  "kernelspec": {
   "display_name": "base",
   "language": "python",
   "name": "python3"
  },
  "language_info": {
   "codemirror_mode": {
    "name": "ipython",
    "version": 3
   },
   "file_extension": ".py",
   "mimetype": "text/x-python",
   "name": "python",
   "nbconvert_exporter": "python",
   "pygments_lexer": "ipython3",
   "version": "3.12.7"
  }
 },
 "nbformat": 4,
 "nbformat_minor": 5
}
